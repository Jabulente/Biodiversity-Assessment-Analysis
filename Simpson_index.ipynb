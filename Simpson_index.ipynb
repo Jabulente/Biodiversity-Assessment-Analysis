{
 "cells": [
  {
   "cell_type": "markdown",
   "id": "cb158e9c-3e38-48d7-966b-a4df622bf77b",
   "metadata": {},
   "source": [
    "## **The Simpson Index (D) With Python**\n",
    "\n",
    "The Simpson Index (D) measures the probability that two individuals randomly selected from a sample belong to the same species. It reflects biodiversity, particularly the dominance or evenness of species in a community."
   ]
  },
  {
   "cell_type": "markdown",
   "id": "9d2f94ba-4e64-41cc-b6c5-22e399791081",
   "metadata": {},
   "source": [
    "## **Import Required Libraries**"
   ]
  },
  {
   "cell_type": "code",
   "execution_count": 2,
   "id": "93278208-f4bb-4fb0-8236-7bf33a7e9d47",
   "metadata": {},
   "outputs": [],
   "source": [
    "import pandas as pd\n",
    "import numpy as np\n",
    "import seaborn as sns\n",
    "import matplotlib.pyplot as plt\n",
    "import matplotlib.ticker as ticker"
   ]
  },
  {
   "cell_type": "markdown",
   "id": "4541f32b-7003-4911-8659-b3636cba621b",
   "metadata": {},
   "source": [
    "## **Loading the dataset**"
   ]
  },
  {
   "cell_type": "code",
   "execution_count": 3,
   "id": "e44e5ff3-6d5d-4d8a-8380-4f1139019aeb",
   "metadata": {},
   "outputs": [
    {
     "data": {
      "text/html": [
       "<div>\n",
       "<style scoped>\n",
       "    .dataframe tbody tr th:only-of-type {\n",
       "        vertical-align: middle;\n",
       "    }\n",
       "\n",
       "    .dataframe tbody tr th {\n",
       "        vertical-align: top;\n",
       "    }\n",
       "\n",
       "    .dataframe thead th {\n",
       "        text-align: right;\n",
       "    }\n",
       "</style>\n",
       "<table border=\"1\" class=\"dataframe\">\n",
       "  <thead>\n",
       "    <tr style=\"text-align: right;\">\n",
       "      <th></th>\n",
       "      <th>WeedID</th>\n",
       "      <th>Block_ID</th>\n",
       "      <th>Common Name</th>\n",
       "      <th>Scientific Name</th>\n",
       "      <th>Count</th>\n",
       "    </tr>\n",
       "  </thead>\n",
       "  <tbody>\n",
       "    <tr>\n",
       "      <th>0</th>\n",
       "      <td>10012797</td>\n",
       "      <td>Block 5</td>\n",
       "      <td>Knapweed</td>\n",
       "      <td>Senecio vulgaris</td>\n",
       "      <td>412</td>\n",
       "    </tr>\n",
       "    <tr>\n",
       "      <th>1</th>\n",
       "      <td>10028051</td>\n",
       "      <td>Block 2</td>\n",
       "      <td>Groundsel</td>\n",
       "      <td>Setaria faberi</td>\n",
       "      <td>242</td>\n",
       "    </tr>\n",
       "    <tr>\n",
       "      <th>2</th>\n",
       "      <td>10065340</td>\n",
       "      <td>Block 1</td>\n",
       "      <td>Lambsquarters</td>\n",
       "      <td>Ambrosia artemisiifolia</td>\n",
       "      <td>179</td>\n",
       "    </tr>\n",
       "    <tr>\n",
       "      <th>3</th>\n",
       "      <td>10003235</td>\n",
       "      <td>Block 1</td>\n",
       "      <td>Bindweed</td>\n",
       "      <td>Setaria faberi</td>\n",
       "      <td>281</td>\n",
       "    </tr>\n",
       "    <tr>\n",
       "      <th>4</th>\n",
       "      <td>10057117</td>\n",
       "      <td>Block 3</td>\n",
       "      <td>Clover</td>\n",
       "      <td>Cyperus esculentus</td>\n",
       "      <td>351</td>\n",
       "    </tr>\n",
       "    <tr>\n",
       "      <th>5</th>\n",
       "      <td>10036856</td>\n",
       "      <td>Block 2</td>\n",
       "      <td>Bindweed</td>\n",
       "      <td>Chenopodium album</td>\n",
       "      <td>414</td>\n",
       "    </tr>\n",
       "    <tr>\n",
       "      <th>6</th>\n",
       "      <td>10088345</td>\n",
       "      <td>Block 5</td>\n",
       "      <td>Henbit</td>\n",
       "      <td>Taraxacum officinale</td>\n",
       "      <td>488</td>\n",
       "    </tr>\n",
       "    <tr>\n",
       "      <th>7</th>\n",
       "      <td>10057369</td>\n",
       "      <td>Block 4</td>\n",
       "      <td>Lambsquarters</td>\n",
       "      <td>Setaria faberi</td>\n",
       "      <td>469</td>\n",
       "    </tr>\n",
       "    <tr>\n",
       "      <th>8</th>\n",
       "      <td>10061074</td>\n",
       "      <td>Block 4</td>\n",
       "      <td>Goosegrass</td>\n",
       "      <td>Lamium amplexicaule</td>\n",
       "      <td>406</td>\n",
       "    </tr>\n",
       "    <tr>\n",
       "      <th>9</th>\n",
       "      <td>10036539</td>\n",
       "      <td>Block 3</td>\n",
       "      <td>Chickweed</td>\n",
       "      <td>Chenopodium album</td>\n",
       "      <td>402</td>\n",
       "    </tr>\n",
       "  </tbody>\n",
       "</table>\n",
       "</div>"
      ],
      "text/plain": [
       "     WeedID Block_ID    Common Name          Scientific Name  Count\n",
       "0  10012797  Block 5       Knapweed         Senecio vulgaris    412\n",
       "1  10028051  Block 2      Groundsel           Setaria faberi    242\n",
       "2  10065340  Block 1  Lambsquarters  Ambrosia artemisiifolia    179\n",
       "3  10003235  Block 1       Bindweed           Setaria faberi    281\n",
       "4  10057117  Block 3         Clover       Cyperus esculentus    351\n",
       "5  10036856  Block 2       Bindweed        Chenopodium album    414\n",
       "6  10088345  Block 5         Henbit     Taraxacum officinale    488\n",
       "7  10057369  Block 4  Lambsquarters           Setaria faberi    469\n",
       "8  10061074  Block 4     Goosegrass      Lamium amplexicaule    406\n",
       "9  10036539  Block 3      Chickweed        Chenopodium album    402"
      ]
     },
     "execution_count": 3,
     "metadata": {},
     "output_type": "execute_result"
    }
   ],
   "source": [
    "df = pd.read_csv('Datasets/weed_species_diversity.csv')\n",
    "df.head(10)"
   ]
  },
  {
   "cell_type": "markdown",
   "id": "f9c9c8a9-e53d-4cd8-a0bc-c64da1f63bb3",
   "metadata": {},
   "source": [
    "## Simpson Index Function"
   ]
  },
  {
   "cell_type": "code",
   "execution_count": 4,
   "id": "630a8d72-0f54-435a-978e-f26a417c2fdf",
   "metadata": {},
   "outputs": [],
   "source": [
    "def simpson_index(species_counts):\n",
    "    N = sum(species_counts)  # Total number of individuals\n",
    "    if N < 2:\n",
    "        return 0  # Avoid division by zero for small datasets\n",
    "    \n",
    "    numerator = sum(n * (n - 1) for n in species_counts)\n",
    "    denominator = N * (N - 1)\n",
    "    \n",
    "    return numerator / denominator"
   ]
  },
  {
   "cell_type": "code",
   "execution_count": 5,
   "id": "405002f1-cfa4-4511-84b9-32d7458c3c3f",
   "metadata": {},
   "outputs": [
    {
     "name": "stdout",
     "output_type": "stream",
     "text": [
      "Simpson Index: 0.0013\n"
     ]
    }
   ],
   "source": [
    "species_counts = df['Count']\n",
    "Simpson_Index = simpson_index(species_counts)\n",
    "print(f\"Simpson Index: {Simpson_Index:.4f}\")"
   ]
  },
  {
   "cell_type": "markdown",
   "id": "1602d322-78da-4e81-b809-db43615f7178",
   "metadata": {},
   "source": [
    "## Group by `Group` and calculate Simpson Index"
   ]
  },
  {
   "cell_type": "code",
   "execution_count": 6,
   "id": "699d4169-aa36-4add-936f-810ff681da60",
   "metadata": {},
   "outputs": [
    {
     "data": {
      "text/html": [
       "<div>\n",
       "<style scoped>\n",
       "    .dataframe tbody tr th:only-of-type {\n",
       "        vertical-align: middle;\n",
       "    }\n",
       "\n",
       "    .dataframe tbody tr th {\n",
       "        vertical-align: top;\n",
       "    }\n",
       "\n",
       "    .dataframe thead th {\n",
       "        text-align: right;\n",
       "    }\n",
       "</style>\n",
       "<table border=\"1\" class=\"dataframe\">\n",
       "  <thead>\n",
       "    <tr style=\"text-align: right;\">\n",
       "      <th></th>\n",
       "      <th>Block_ID</th>\n",
       "      <th>Index</th>\n",
       "    </tr>\n",
       "  </thead>\n",
       "  <tbody>\n",
       "    <tr>\n",
       "      <th>2</th>\n",
       "      <td>Block 3</td>\n",
       "      <td>0.007080</td>\n",
       "    </tr>\n",
       "    <tr>\n",
       "      <th>0</th>\n",
       "      <td>Block 1</td>\n",
       "      <td>0.006751</td>\n",
       "    </tr>\n",
       "    <tr>\n",
       "      <th>4</th>\n",
       "      <td>Block 5</td>\n",
       "      <td>0.006667</td>\n",
       "    </tr>\n",
       "    <tr>\n",
       "      <th>1</th>\n",
       "      <td>Block 2</td>\n",
       "      <td>0.006562</td>\n",
       "    </tr>\n",
       "    <tr>\n",
       "      <th>3</th>\n",
       "      <td>Block 4</td>\n",
       "      <td>0.006002</td>\n",
       "    </tr>\n",
       "  </tbody>\n",
       "</table>\n",
       "</div>"
      ],
      "text/plain": [
       "  Block_ID     Index\n",
       "2  Block 3  0.007080\n",
       "0  Block 1  0.006751\n",
       "4  Block 5  0.006667\n",
       "1  Block 2  0.006562\n",
       "3  Block 4  0.006002"
      ]
     },
     "execution_count": 6,
     "metadata": {},
     "output_type": "execute_result"
    }
   ],
   "source": [
    "simpson_indices = df.groupby(\"Block_ID\")['Count'].apply(simpson_index).reset_index(name='Index').sort_values(by='Index', ascending=False)\n",
    "simpson_indices"
   ]
  },
  {
   "cell_type": "code",
   "execution_count": 7,
   "id": "b0fe5cbc-f56c-4123-aab2-ac1beb8f98ff",
   "metadata": {},
   "outputs": [
    {
     "data": {
      "image/png": "[encoded data removed]",
      "text/plain": [
       "<Figure size 1500x600 with 1 Axes>"
      ]
     },
     "metadata": {},
     "output_type": "display_data"
    }
   ],
   "source": [
    "fig, ax = plt.subplots(figsize=(15, 6))\n",
    "sns.barplot(simpson_indices, x=\"Index\", y=\"Block_ID\", hue='Block_ID', palette='coolwarm', ax=ax, orient=\"h\")\n",
    "ax.text(0, 1.06, 'Simpson Index', transform=ax.transAxes, size=8, color='black')\n",
    "ax.text(1, 0, 'By Jabulente', transform=ax.transAxes, color='#777777', ha='right', bbox=dict(facecolor='white', alpha=0.8, edgecolor='white'))\n",
    "ax.xaxis.set_major_formatter(ticker.StrMethodFormatter('{x:,.3f}'))\n",
    "ax.xaxis.set_ticks_position('top') \n",
    "ax.tick_params(axis='x', colors='black', labelsize=8)\n",
    "\n",
    "ax.set_title('Simpson Diversity Index of Weed Species in Different Flarm Blocks', pad=40)\n",
    "\n",
    "dx = simpson_indices['Index'].max() / 200\n",
    "for i, (value, group) in enumerate(zip(simpson_indices[\"Index\"], simpson_indices[\"Block_ID\"])):\n",
    "    ax.text(value-dx, i, group, size=14, weight=600, ha='right', va='baseline')\n",
    "    ax.text(value+dx, i-.0,  f'{value:,.4f}',  size=10, ha='left',  va='baseline')\n",
    "\n",
    "ax.grid(which='major', axis='x', linestyle='--')\n",
    "ax.set_ylabel('')\n",
    "ax.set_xlabel('')\n",
    "sns.despine()\n",
    "ax.grid(axis='x', visible=True)\n",
    "ax.margins(0, 0.001, )\n",
    "ax.yaxis.set_ticks([])\n",
    "ax.yaxis.set_ticklabels([])\n",
    "plt.show()"
   ]
  },
  {
   "cell_type": "markdown",
   "id": "9b0ebd01-c6e0-491f-9931-8a63e1f677b4",
   "metadata": {},
   "source": [
    "### Interpretation\n",
    "\n",
    "Value Range:\n",
    "The Simpson Index ranges between 0 and 1:\n",
    "\n",
    "- 1 : Maximum dominance, meaning the community is entirely dominated by one species.\n",
    "\n",
    "- 0 : High biodiversity, meaning individuals are evenly distributed among many species.\n",
    "\n",
    "\n",
    "---\n",
    "\n",
    "### Key Concepts\n",
    "\n",
    "1. Dominance: A high  value indicates that one or a few species dominate the community (low diversity).\n",
    "\n",
    "2. Evenness: A lower  value suggests species are more evenly distributed, with no single species dominating (high diversity).\n"
   ]
  },
  {
   "cell_type": "markdown",
   "id": "d4a87456-bd0d-45af-8934-a97de3797f3b",
   "metadata": {},
   "source": [
    "### Practical Applications\n",
    "\n",
    "1. Ecology: Assessing biodiversity in ecosystems. Comparing biodiversity across different habitats or over time.\n",
    "\n",
    "2. Conservation: Identifying ecosystems at risk due to low diversity.\n",
    "\n",
    "3. Agriculture: Evaluating diversity in crop fields to manage pest or disease risks.\n"
   ]
  },
  {
   "cell_type": "code",
   "execution_count": null,
   "id": "2dc6a2fe-e07f-4fa6-9ae5-d72cfa10c23e",
   "metadata": {},
   "outputs": [],
   "source": []
  }
 ],
 "metadata": {
  "kernelspec": {
   "display_name": "Python 3 (ipykernel)",
   "language": "python",
   "name": "python3"
  },
  "language_info": {
   "codemirror_mode": {
    "name": "ipython",
    "version": 3
   },
   "file_extension": ".py",
   "mimetype": "text/x-python",
   "name": "python",
   "nbconvert_exporter": "python",
   "pygments_lexer": "ipython3",
   "version": "3.11.8"
  }
 },
 "nbformat": 4,
 "nbformat_minor": 5
}
